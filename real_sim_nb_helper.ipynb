{
 "cells": [
  {
   "attachments": {},
   "cell_type": "markdown",
   "metadata": {},
   "source": [
    "How it should look:\n",
    "A single matrix should be a transmission line matrix of length 9mm. To the inductance of this matrix should be added the inducatanceof the discrete inductor. This should be multiplied by the matrix of a capacitor.\n",
    "\n",
    "dimensions:\n",
    "cell length 9 mm\n",
    "capacitor length 0.5 mm\n",
    "C_0 = 0.13616e-12 f/mm\n",
    "L_0 = 0.23815e-9 h/mm\n"
   ]
  },
  {
   "cell_type": "code",
   "execution_count": 15,
   "metadata": {},
   "outputs": [
    {
     "data": {
      "text/plain": [
       "capacitor_matirx (generic function with 1 method)"
      ]
     },
     "metadata": {},
     "output_type": "display_data"
    }
   ],
   "source": [
    "function tl_matrix(l, Z, omega)\n",
    "    [cos(omega*l) im*Z*sin(omega*l) ; (im/Z)*sin(omega*l) cos(omega*l)];\n",
    "end\n",
    "\n",
    "function capacitor_matirx(C, omega)\n",
    "    [1 -im*omega*C; 0 1];\n",
    "end\n"
   ]
  },
  {
   "cell_type": "code",
   "execution_count": 56,
   "metadata": {},
   "outputs": [],
   "source": [
    "Length = 95;\n",
    "dx = 0.05;\n",
    "N = Int64(Length/dx);\n",
    "result_matrix = zeros(ComplexF64, 2, N + 1) \n",
    "result_matrix[:, 1] = [1 ; 1/50]\n",
    "\n",
    "C_0 = 0.136e-12; # farad/mm\n",
    "L_0 = 0.238e-9; # henry/mm\n",
    "d = 9; # mm\n",
    "Z_0 = (L_0/C_0)^0.5; # ohm\n",
    "C = 2.7e-12;\n",
    "L = 2.8e-9;\n",
    "\n",
    "L_tot_per_unit_length = (N*L + L_0); \n",
    "\n",
    "omega = 2*pi*0.2e8;\n",
    "beta = omega *(L_tot_per_unit_length*C_0)^0.5;\n",
    "\n",
    "for i = 0:9  # iterating over cells\n",
    "     # buliding each cell\n",
    "    for j = 1:Int64(9/dx) # the transmission line part\n",
    "        result_matrix[:, (190)*i + j+1] = tl_matrix(dx,Z_0, beta)*result_matrix[:, 190*i + j];\n",
    "    end\n",
    "\n",
    "    for k = 1:Int64(0.5/dx) # the capcictor part\n",
    "        result_matrix[:, 190*i + Int64(9/dx) + k + 1] = capacitor_matirx(C*(0.5/dx), omega)*result_matrix[:, 10*i + Int64(9/dx) + k];\n",
    "    end\n",
    "end\n",
    "\n"
   ]
  },
  {
   "cell_type": "code",
   "execution_count": null,
   "metadata": {},
   "outputs": [],
   "source": [
    "plot(real(result_matrix[2,:]))"
   ]
  },
  {
   "cell_type": "code",
   "execution_count": null,
   "metadata": {},
   "outputs": [],
   "source": [
    "plot(imag(result_matrix[2,:]))"
   ]
  },
  {
   "cell_type": "code",
   "execution_count": null,
   "metadata": {},
   "outputs": [],
   "source": [
    "tl_result_mat = zeros(ComplexF64, 2, Int64(9/0.001));\n",
    "tl_result_mat[:, 1] = [1 1/50];\n",
    "\n",
    "for i = 2:length(tl_result_mat[1,:])\n",
    "    tl_result_mat[:, i] = tl_matrix(0.001, Z_0, beta)*tl_result_mat[:, i-1];\n",
    "end"
   ]
  },
  {
   "cell_type": "code",
   "execution_count": null,
   "metadata": {},
   "outputs": [],
   "source": [
    "plot(real(tl_result_mat[1,:]))"
   ]
  },
  {
   "cell_type": "code",
   "execution_count": null,
   "metadata": {},
   "outputs": [],
   "source": [
    "capacitor_matrix(C, omega) * [A ; B]"
   ]
  },
  {
   "cell_type": "code",
   "execution_count": null,
   "metadata": {},
   "outputs": [],
   "source": [
    "function long_matrix(L_0, C_0, L, d, omega)\n",
    "    [1 im*omega*L_0*d ; im*omega*C_0*d+1/(im*omega*L) 1];\n",
    "end\n",
    "\n",
    "function short_matrix(C, C_0, d, omega)\n",
    "    [1 1/(im*omega*C); im*omega*C_0*d 1];\n",
    "end\n"
   ]
  },
  {
   "cell_type": "code",
   "execution_count": 1,
   "metadata": {},
   "outputs": [
    {
     "data": {
      "text/plain": [
       "1×9 Matrix{Float64}:\n",
       " 2.0  2.0  3.0  5.0  6.0  7.0  4.0  3.0  0.4"
      ]
     },
     "metadata": {},
     "output_type": "display_data"
    }
   ],
   "source": [
    "A = [ 2 2 3 5 6 7 4 3 0.4]"
   ]
  },
  {
   "cell_type": "code",
   "execution_count": 3,
   "metadata": {},
   "outputs": [
    {
     "data": {
      "text/plain": [
       "0.4"
      ]
     },
     "metadata": {},
     "output_type": "display_data"
    }
   ],
   "source": [
    "A[end]"
   ]
  },
  {
   "cell_type": "code",
   "execution_count": 11,
   "metadata": {},
   "outputs": [
    {
     "data": {
      "text/plain": [
       "8-element LinRange{Float64}:\n",
       " 1.0,2.0,3.0,4.0,5.0,6.0,7.0,8.0"
      ]
     },
     "metadata": {},
     "output_type": "display_data"
    }
   ],
   "source": [
    "LinRange(1, 8, 8)"
   ]
  },
  {
   "cell_type": "code",
   "execution_count": 44,
   "metadata": {},
   "outputs": [
    {
     "data": {
      "text/plain": [
       "\"/home/yotamktz1/Downloads/Uni/Year_d/77508_lab_3/meta_materials/graph.svg\""
      ]
     },
     "metadata": {},
     "output_type": "display_data"
    }
   ],
   "source": [
    "using Plots\n",
    "k_vec = [];\n",
    "theta_vec = [];\n",
    "for ind in LinRange(3,8,100)\n",
    "    theta = ind*pi*2e9;\n",
    "    push!(theta_vec, theta/(2*pi));\n",
    "    push!(k_vec,  (theta*((L_0 - 1/(C*d*theta^2))*(C_0 - 1/(L*d*theta^2)))^0.5));\n",
    "end\n",
    "\n",
    "plot(k_vec, theta_vec,\n",
    "\n",
    "        xlabel = \"wave number [mm]\",\n",
    "        ylabel = \"frequency [Hz]\",\n",
    "        title = \"Dispersion relation between the gaps\" \n",
    "        )\n",
    "\n",
    "savefig(\"graph.svg\")\n",
    "\n",
    "\n"
   ]
  },
  {
   "cell_type": "code",
   "execution_count": 57,
   "metadata": {},
   "outputs": [
    {
     "data": {
      "text/plain": [
       "2.10383078183209e11"
      ]
     },
     "metadata": {},
     "output_type": "display_data"
    }
   ],
   "source": [
    "theta = pi*12e9;\n",
    "c_vel = ((L_0 - 1/(C*d*theta^2))*(C_0 - 1/(L*d*theta^2)))^-0.5"
   ]
  },
  {
   "cell_type": "code",
   "execution_count": 59,
   "metadata": {},
   "outputs": [
    {
     "data": {
      "text/plain": [
       "93.5"
      ]
     },
     "metadata": {},
     "output_type": "display_data"
    }
   ],
   "source": [
    "187/2"
   ]
  },
  {
   "attachments": {},
   "cell_type": "markdown",
   "metadata": {},
   "source": [
    "Not code but a break"
   ]
  },
  {
   "cell_type": "code",
   "execution_count": 22,
   "metadata": {},
   "outputs": [],
   "source": [
    "start_V_I = [1 1/50]';num_freqs = Int64(100)\n",
    "N = Int64(10000)\n",
    "two_dim_map = zeros(ComplexF64, num_freqs, N);\n",
    "smarter_result_matrix = zeros(Complex{Float64},2,N);\n",
    "start_V_I = [1 1/50]';\n",
    "\n",
    "function initializing_omega(omega) \n",
    "    # this creates the ABCD matrix for a given omega\n",
    "    #\n",
    "\n",
    "    C_0 = 0.17e-12;\n",
    "    L_0 = 0.238e-9; \n",
    "    d = 9;\n",
    "    Z_0 = (L_0/C_0)^-0.5;\n",
    "\n",
    "    L = 2.8e-9\n",
    "    C = 2.7e-12\n",
    "\n",
    "    \n",
    "    \n",
    "    series_matrix = [1 (im*L_0*d*omega - im/(omega*C)) ; 0 1];\n",
    "    parallel_matrix = [1 0 ; (im*C_0*d*omega - im/(omega*L))  1];\n",
    "\n",
    "    cell_matrix = (series_matrix*parallel_matrix);\n",
    "    dx_matrix = cell_matrix^(1/(N/20));\n",
    "    \n",
    "    return dx_matrix\n",
    "end;"
   ]
  },
  {
   "cell_type": "code",
   "execution_count": 23,
   "metadata": {},
   "outputs": [
    {
     "data": {
      "text/plain": [
       "2×2 Matrix{ComplexF64}:\n",
       "     1.00477+0.00631323im   -0.000722878+0.115048im\n",
       " -7.15488e-7+0.000113872im      0.995201+0.00625312im"
      ]
     },
     "metadata": {},
     "output_type": "display_data"
    }
   ],
   "source": [
    "A =  initializing_omega(4e9)"
   ]
  },
  {
   "cell_type": "code",
   "execution_count": 20,
   "metadata": {},
   "outputs": [
    {
     "data": {
      "text/plain": [
       "2×2 Matrix{ComplexF64}:\n",
       "    1.00477+0.00631323im   0.000722878-0.115048im\n",
       " 7.15488e-7-0.000113872im     0.995201+0.00625312im"
      ]
     },
     "metadata": {},
     "output_type": "display_data"
    }
   ],
   "source": [
    "A"
   ]
  },
  {
   "cell_type": "code",
   "execution_count": null,
   "metadata": {},
   "outputs": [],
   "source": []
  },
  {
   "cell_type": "code",
   "execution_count": 11,
   "metadata": {},
   "outputs": [],
   "source": []
  },
  {
   "cell_type": "code",
   "execution_count": null,
   "metadata": {},
   "outputs": [],
   "source": []
  }
 ],
 "metadata": {
  "kernelspec": {
   "display_name": "Julia 1.6.7",
   "language": "julia",
   "name": "julia-1.6"
  },
  "language_info": {
   "file_extension": ".jl",
   "mimetype": "application/julia",
   "name": "julia",
   "version": "1.6.7"
  },
  "orig_nbformat": 4
 },
 "nbformat": 4,
 "nbformat_minor": 2
}
